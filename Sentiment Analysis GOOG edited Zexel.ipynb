{
 "cells": [
  {
   "cell_type": "code",
   "execution_count": 1,
   "metadata": {},
   "outputs": [],
   "source": [
    "from bs4 import BeautifulSoup\n",
    "import matplotlib.pyplot as plt\n",
    "from pprint import pprint\n",
    "import requests\n",
    "import pandas as pd\n",
    "import pprint"
   ]
  },
  {
   "cell_type": "markdown",
   "metadata": {},
   "source": [
    "### Scraping for Google Stock"
   ]
  },
  {
   "cell_type": "code",
   "execution_count": 2,
   "metadata": {},
   "outputs": [],
   "source": [
    "def scrape_headlines(stock_name):\n",
    "    url = \"https://finviz.com/quote.ashx?t=\" + stock_name\n",
    "\n",
    "    response = requests.get(url)\n",
    "    soup = BeautifulSoup(response.text, 'html.parser')\n",
    "\n",
    "    html_tables =[]\n",
    "\n",
    "    data = soup.find(id='news-table')\n",
    "    html_tables.append(data)\n",
    "\n",
    "    parsed_news = []\n",
    "    for news_table in html_tables:\n",
    "        for x in news_table.findAll('tr'):\n",
    "            text = x.get_text() \n",
    "            date_scrape = x.td.text.split()\n",
    "            if len(date_scrape) == 1:\n",
    "                time = date_scrape[0]\n",
    "            else:\n",
    "                date = date_scrape[0]\n",
    "                time = date_scrape[1]\n",
    "\n",
    "            parsed_news.append([date, time, x.a.text])\n",
    "\n",
    "    print('Number of headlines scraped:', len(parsed_news))\n",
    "    pprint.pprint(parsed_news[:3])\n",
    "    return parsed_news"
   ]
  },
  {
   "cell_type": "markdown",
   "metadata": {},
   "source": [
    "### Sentiment Analysis using Vader Sentiment"
   ]
  },
  {
   "cell_type": "code",
   "execution_count": 3,
   "metadata": {
    "scrolled": true
   },
   "outputs": [],
   "source": [
    "from vaderSentiment.vaderSentiment import SentimentIntensityAnalyzer\n",
    "vader = SentimentIntensityAnalyzer()"
   ]
  },
  {
   "cell_type": "code",
   "execution_count": 11,
   "metadata": {
    "scrolled": true
   },
   "outputs": [],
   "source": [
    "def get_vader_scores(parsed_news):\n",
    "    columns = ['date', 'time', 'headline']\n",
    "    scored_news = pd.DataFrame(parsed_news,columns=columns)\n",
    "    scores = [vader.polarity_scores(news[2]) for news in parsed_news]\n",
    "    scores_df = pd.DataFrame(scores)\n",
    "    scored_news = scored_news.join(scores_df)\n",
    "\n",
    "    scored_news['date'] = pd.to_datetime(scored_news.date).dt.date\n",
    "    print('Data with sentiment scores:')\n",
    "    display(scored_news.head())\n",
    "    grouped_by_days = pd.DataFrame(scored_news.drop(columns = ['time','headline','neg','neu','pos']).groupby(['date'])['compound'].mean())\n",
    "    grouped_by_days['compound'].plot()\n",
    "    plt.xticks(rotation = 45)\n",
    "    return scored_news"
   ]
  },
  {
   "cell_type": "markdown",
   "metadata": {},
   "source": [
    "### Plot of sentiments over time"
   ]
  },
  {
   "cell_type": "code",
   "execution_count": 14,
   "metadata": {},
   "outputs": [],
   "source": [
    "def get_plot_for_stock(stock):\n",
    "    parsed_news = scrape_headlines(stock)\n",
    "    scored_news = get_vader_scores(parsed_news) \n",
    "    return"
   ]
  },
  {
   "cell_type": "code",
   "execution_count": 15,
   "metadata": {},
   "outputs": [
    {
     "name": "stdout",
     "output_type": "stream",
     "text": [
      "Number of headlines scraped: 100\n",
      "[['Oct-16-19',\n",
      "  '03:36AM',\n",
      "  'Huawei Defies U.S. Ban With Strong Growth in Smartphone Sales'],\n",
      " ['Oct-16-19', '02:03AM', 'Googles Pixel Gets Unorthodox Zoom From AI'],\n",
      " ['Oct-16-19',\n",
      "  '01:02AM',\n",
      "  'Marijuana stocks, after declines of over 50%, are now only ludicrously '\n",
      "  'overpriced']]\n",
      "Data with sentiment scores:\n"
     ]
    },
    {
     "data": {
      "text/html": [
       "<div>\n",
       "<style scoped>\n",
       "    .dataframe tbody tr th:only-of-type {\n",
       "        vertical-align: middle;\n",
       "    }\n",
       "\n",
       "    .dataframe tbody tr th {\n",
       "        vertical-align: top;\n",
       "    }\n",
       "\n",
       "    .dataframe thead th {\n",
       "        text-align: right;\n",
       "    }\n",
       "</style>\n",
       "<table border=\"1\" class=\"dataframe\">\n",
       "  <thead>\n",
       "    <tr style=\"text-align: right;\">\n",
       "      <th></th>\n",
       "      <th>date</th>\n",
       "      <th>time</th>\n",
       "      <th>headline</th>\n",
       "      <th>compound</th>\n",
       "      <th>neg</th>\n",
       "      <th>neu</th>\n",
       "      <th>pos</th>\n",
       "    </tr>\n",
       "  </thead>\n",
       "  <tbody>\n",
       "    <tr>\n",
       "      <th>0</th>\n",
       "      <td>2019-10-16</td>\n",
       "      <td>03:36AM</td>\n",
       "      <td>Huawei Defies U.S. Ban With Strong Growth in S...</td>\n",
       "      <td>0.3182</td>\n",
       "      <td>0.218</td>\n",
       "      <td>0.424</td>\n",
       "      <td>0.358</td>\n",
       "    </tr>\n",
       "    <tr>\n",
       "      <th>1</th>\n",
       "      <td>2019-10-16</td>\n",
       "      <td>02:03AM</td>\n",
       "      <td>Googles Pixel Gets Unorthodox Zoom From AI</td>\n",
       "      <td>0.0000</td>\n",
       "      <td>0.000</td>\n",
       "      <td>1.000</td>\n",
       "      <td>0.000</td>\n",
       "    </tr>\n",
       "    <tr>\n",
       "      <th>2</th>\n",
       "      <td>2019-10-16</td>\n",
       "      <td>01:02AM</td>\n",
       "      <td>Marijuana stocks, after declines of over 50%, ...</td>\n",
       "      <td>-0.0516</td>\n",
       "      <td>0.098</td>\n",
       "      <td>0.902</td>\n",
       "      <td>0.000</td>\n",
       "    </tr>\n",
       "    <tr>\n",
       "      <th>3</th>\n",
       "      <td>2019-10-16</td>\n",
       "      <td>12:45AM</td>\n",
       "      <td>$30 Billion of Proof That India's Tech Scene I...</td>\n",
       "      <td>0.0000</td>\n",
       "      <td>0.000</td>\n",
       "      <td>1.000</td>\n",
       "      <td>0.000</td>\n",
       "    </tr>\n",
       "    <tr>\n",
       "      <th>4</th>\n",
       "      <td>2019-10-15</td>\n",
       "      <td>09:56PM</td>\n",
       "      <td>House investigators say they have begun receiv...</td>\n",
       "      <td>0.0000</td>\n",
       "      <td>0.000</td>\n",
       "      <td>1.000</td>\n",
       "      <td>0.000</td>\n",
       "    </tr>\n",
       "  </tbody>\n",
       "</table>\n",
       "</div>"
      ],
      "text/plain": [
       "         date     time                                           headline  \\\n",
       "0  2019-10-16  03:36AM  Huawei Defies U.S. Ban With Strong Growth in S...   \n",
       "1  2019-10-16  02:03AM         Googles Pixel Gets Unorthodox Zoom From AI   \n",
       "2  2019-10-16  01:02AM  Marijuana stocks, after declines of over 50%, ...   \n",
       "3  2019-10-16  12:45AM  $30 Billion of Proof That India's Tech Scene I...   \n",
       "4  2019-10-15  09:56PM  House investigators say they have begun receiv...   \n",
       "\n",
       "   compound    neg    neu    pos  \n",
       "0    0.3182  0.218  0.424  0.358  \n",
       "1    0.0000  0.000  1.000  0.000  \n",
       "2   -0.0516  0.098  0.902  0.000  \n",
       "3    0.0000  0.000  1.000  0.000  \n",
       "4    0.0000  0.000  1.000  0.000  "
      ]
     },
     "metadata": {},
     "output_type": "display_data"
    },
    {
     "data": {
      "image/png": "[encoded data removed]",
      "text/plain": [
       "<Figure size 432x288 with 1 Axes>"
      ]
     },
     "metadata": {
      "needs_background": "light"
     },
     "output_type": "display_data"
    }
   ],
   "source": [
    "get_plot_for_stock('googl')"
   ]
  },
  {
   "cell_type": "code",
   "execution_count": 16,
   "metadata": {},
   "outputs": [
    {
     "name": "stdout",
     "output_type": "stream",
     "text": [
      "Number of headlines scraped: 100\n",
      "[['Oct-15-19',\n",
      "  '05:22PM',\n",
      "  \"Oil &amp; Gas Stock Roundup: ConocoPhillips' Australia Asset Sale, Phillips \"\n",
      "  \"66's Buyback &amp; More\"],\n",
      " ['Oct-15-19',\n",
      "  '01:00PM',\n",
      "  'Why Royal Dutch Shell Stock Could Stand Out From Big Oil'],\n",
      " ['Oct-15-19',\n",
      "  '09:35AM',\n",
      "  \"3 Stocks Poised to Gain From India's $60B Investment in Gas\"]]\n",
      "Data with sentiment scores:\n"
     ]
    },
    {
     "data": {
      "text/html": [
       "<div>\n",
       "<style scoped>\n",
       "    .dataframe tbody tr th:only-of-type {\n",
       "        vertical-align: middle;\n",
       "    }\n",
       "\n",
       "    .dataframe tbody tr th {\n",
       "        vertical-align: top;\n",
       "    }\n",
       "\n",
       "    .dataframe thead th {\n",
       "        text-align: right;\n",
       "    }\n",
       "</style>\n",
       "<table border=\"1\" class=\"dataframe\">\n",
       "  <thead>\n",
       "    <tr style=\"text-align: right;\">\n",
       "      <th></th>\n",
       "      <th>date</th>\n",
       "      <th>time</th>\n",
       "      <th>headline</th>\n",
       "      <th>compound</th>\n",
       "      <th>neg</th>\n",
       "      <th>neu</th>\n",
       "      <th>pos</th>\n",
       "    </tr>\n",
       "  </thead>\n",
       "  <tbody>\n",
       "    <tr>\n",
       "      <th>0</th>\n",
       "      <td>2019-10-15</td>\n",
       "      <td>05:22PM</td>\n",
       "      <td>Oil &amp;amp; Gas Stock Roundup: ConocoPhillips' A...</td>\n",
       "      <td>0.3612</td>\n",
       "      <td>0.0</td>\n",
       "      <td>0.839</td>\n",
       "      <td>0.161</td>\n",
       "    </tr>\n",
       "    <tr>\n",
       "      <th>1</th>\n",
       "      <td>2019-10-15</td>\n",
       "      <td>01:00PM</td>\n",
       "      <td>Why Royal Dutch Shell Stock Could Stand Out Fr...</td>\n",
       "      <td>0.0000</td>\n",
       "      <td>0.0</td>\n",
       "      <td>1.000</td>\n",
       "      <td>0.000</td>\n",
       "    </tr>\n",
       "    <tr>\n",
       "      <th>2</th>\n",
       "      <td>2019-10-15</td>\n",
       "      <td>09:35AM</td>\n",
       "      <td>3 Stocks Poised to Gain From India's $60B Inve...</td>\n",
       "      <td>0.6597</td>\n",
       "      <td>0.0</td>\n",
       "      <td>0.597</td>\n",
       "      <td>0.403</td>\n",
       "    </tr>\n",
       "    <tr>\n",
       "      <th>3</th>\n",
       "      <td>2019-10-14</td>\n",
       "      <td>11:07AM</td>\n",
       "      <td>TOTAL to Gain From Adani Venture as India Inve...</td>\n",
       "      <td>0.5267</td>\n",
       "      <td>0.0</td>\n",
       "      <td>0.764</td>\n",
       "      <td>0.236</td>\n",
       "    </tr>\n",
       "    <tr>\n",
       "      <th>4</th>\n",
       "      <td>2019-10-14</td>\n",
       "      <td>10:12AM</td>\n",
       "      <td>Stock Market News For Oct 14, 2019</td>\n",
       "      <td>0.0000</td>\n",
       "      <td>0.0</td>\n",
       "      <td>1.000</td>\n",
       "      <td>0.000</td>\n",
       "    </tr>\n",
       "  </tbody>\n",
       "</table>\n",
       "</div>"
      ],
      "text/plain": [
       "         date     time                                           headline  \\\n",
       "0  2019-10-15  05:22PM  Oil &amp; Gas Stock Roundup: ConocoPhillips' A...   \n",
       "1  2019-10-15  01:00PM  Why Royal Dutch Shell Stock Could Stand Out Fr...   \n",
       "2  2019-10-15  09:35AM  3 Stocks Poised to Gain From India's $60B Inve...   \n",
       "3  2019-10-14  11:07AM  TOTAL to Gain From Adani Venture as India Inve...   \n",
       "4  2019-10-14  10:12AM                 Stock Market News For Oct 14, 2019   \n",
       "\n",
       "   compound  neg    neu    pos  \n",
       "0    0.3612  0.0  0.839  0.161  \n",
       "1    0.0000  0.0  1.000  0.000  \n",
       "2    0.6597  0.0  0.597  0.403  \n",
       "3    0.5267  0.0  0.764  0.236  \n",
       "4    0.0000  0.0  1.000  0.000  "
      ]
     },
     "metadata": {},
     "output_type": "display_data"
    },
    {
     "data": {
      "image/png": "[encoded data removed]",
      "text/plain": [
       "<Figure size 432x288 with 1 Axes>"
      ]
     },
     "metadata": {
      "needs_background": "light"
     },
     "output_type": "display_data"
    }
   ],
   "source": [
    "get_plot_for_stock('bp')"
   ]
  },
  {
   "cell_type": "code",
   "execution_count": 17,
   "metadata": {},
   "outputs": [
    {
     "name": "stdout",
     "output_type": "stream",
     "text": [
      "Number of headlines scraped: 100\n",
      "[['Oct-16-19', '02:03AM', 'Googles Pixel Gets Unorthodox Zoom From AI'],\n",
      " ['Oct-16-19',\n",
      "  '02:00AM',\n",
      "  'Old Mutual Limited Selects AWS as its Preferred Cloud Provider'],\n",
      " ['Oct-16-19',\n",
      "  '01:30AM',\n",
      "  'Big tech, Twitter bans and Bing: U.S. Democrats spar over Silicon Valley on '\n",
      "  'debate stage']]\n",
      "Data with sentiment scores:\n"
     ]
    },
    {
     "data": {
      "text/html": [
       "<div>\n",
       "<style scoped>\n",
       "    .dataframe tbody tr th:only-of-type {\n",
       "        vertical-align: middle;\n",
       "    }\n",
       "\n",
       "    .dataframe tbody tr th {\n",
       "        vertical-align: top;\n",
       "    }\n",
       "\n",
       "    .dataframe thead th {\n",
       "        text-align: right;\n",
       "    }\n",
       "</style>\n",
       "<table border=\"1\" class=\"dataframe\">\n",
       "  <thead>\n",
       "    <tr style=\"text-align: right;\">\n",
       "      <th></th>\n",
       "      <th>date</th>\n",
       "      <th>time</th>\n",
       "      <th>headline</th>\n",
       "      <th>compound</th>\n",
       "      <th>neg</th>\n",
       "      <th>neu</th>\n",
       "      <th>pos</th>\n",
       "    </tr>\n",
       "  </thead>\n",
       "  <tbody>\n",
       "    <tr>\n",
       "      <th>0</th>\n",
       "      <td>2019-10-16</td>\n",
       "      <td>02:03AM</td>\n",
       "      <td>Googles Pixel Gets Unorthodox Zoom From AI</td>\n",
       "      <td>0.0000</td>\n",
       "      <td>0.000</td>\n",
       "      <td>1.000</td>\n",
       "      <td>0.0</td>\n",
       "    </tr>\n",
       "    <tr>\n",
       "      <th>1</th>\n",
       "      <td>2019-10-16</td>\n",
       "      <td>02:00AM</td>\n",
       "      <td>Old Mutual Limited Selects AWS as its Preferre...</td>\n",
       "      <td>-0.2263</td>\n",
       "      <td>0.174</td>\n",
       "      <td>0.826</td>\n",
       "      <td>0.0</td>\n",
       "    </tr>\n",
       "    <tr>\n",
       "      <th>2</th>\n",
       "      <td>2019-10-16</td>\n",
       "      <td>01:30AM</td>\n",
       "      <td>Big tech, Twitter bans and Bing: U.S. Democrat...</td>\n",
       "      <td>0.0000</td>\n",
       "      <td>0.000</td>\n",
       "      <td>1.000</td>\n",
       "      <td>0.0</td>\n",
       "    </tr>\n",
       "    <tr>\n",
       "      <th>3</th>\n",
       "      <td>2019-10-16</td>\n",
       "      <td>01:02AM</td>\n",
       "      <td>Marijuana stocks, after declines of over 50%, ...</td>\n",
       "      <td>-0.0516</td>\n",
       "      <td>0.098</td>\n",
       "      <td>0.902</td>\n",
       "      <td>0.0</td>\n",
       "    </tr>\n",
       "    <tr>\n",
       "      <th>4</th>\n",
       "      <td>2019-10-16</td>\n",
       "      <td>12:00AM</td>\n",
       "      <td>You dont live with us, so you dont know us</td>\n",
       "      <td>0.0000</td>\n",
       "      <td>0.000</td>\n",
       "      <td>1.000</td>\n",
       "      <td>0.0</td>\n",
       "    </tr>\n",
       "  </tbody>\n",
       "</table>\n",
       "</div>"
      ],
      "text/plain": [
       "         date     time                                           headline  \\\n",
       "0  2019-10-16  02:03AM         Googles Pixel Gets Unorthodox Zoom From AI   \n",
       "1  2019-10-16  02:00AM  Old Mutual Limited Selects AWS as its Preferre...   \n",
       "2  2019-10-16  01:30AM  Big tech, Twitter bans and Bing: U.S. Democrat...   \n",
       "3  2019-10-16  01:02AM  Marijuana stocks, after declines of over 50%, ...   \n",
       "4  2019-10-16  12:00AM         You dont live with us, so you dont know us   \n",
       "\n",
       "   compound    neg    neu  pos  \n",
       "0    0.0000  0.000  1.000  0.0  \n",
       "1   -0.2263  0.174  0.826  0.0  \n",
       "2    0.0000  0.000  1.000  0.0  \n",
       "3   -0.0516  0.098  0.902  0.0  \n",
       "4    0.0000  0.000  1.000  0.0  "
      ]
     },
     "metadata": {},
     "output_type": "display_data"
    },
    {
     "data": {
      "image/png": "[encoded data removed]",
      "text/plain": [
       "<Figure size 432x288 with 1 Axes>"
      ]
     },
     "metadata": {
      "needs_background": "light"
     },
     "output_type": "display_data"
    }
   ],
   "source": [
    "get_plot_for_stock('amzn')"
   ]
  },
  {
   "cell_type": "code",
   "execution_count": null,
   "metadata": {},
   "outputs": [],
   "source": [
    "# random forest classifier"
   ]
  },
  {
   "cell_type": "code",
   "execution_count": null,
   "metadata": {},
   "outputs": [],
   "source": [
    "# google prices over 8 days -> target variable"
   ]
  }
 ],
 "metadata": {
  "kernelspec": {
   "display_name": "Python 3",
   "language": "python",
   "name": "python3"
  },
  "language_info": {
   "codemirror_mode": {
    "name": "ipython",
    "version": 3
   },
   "file_extension": ".py",
   "mimetype": "text/x-python",
   "name": "python",
   "nbconvert_exporter": "python",
   "pygments_lexer": "ipython3",
   "version": "3.7.1"
  }
 },
 "nbformat": 4,
 "nbformat_minor": 2
}
